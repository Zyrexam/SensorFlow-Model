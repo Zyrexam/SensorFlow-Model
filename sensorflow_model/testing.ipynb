{
 "cells": [
  {
   "cell_type": "code",
   "execution_count": 6,
   "id": "6d6f14c1",
   "metadata": {},
   "outputs": [],
   "source": [
    "\n",
    "import json\n",
    "import os\n",
    "import numpy as np\n",
    "from sklearn.metrics import classification_report, confusion_matrix\n",
    "from tensorflow import keras\n",
    "\n",
    "\n",
    "from sensorflow_model.dataset import get_dataset \n"
   ]
  },
  {
   "cell_type": "code",
   "execution_count": 7,
   "id": "4599a1ab",
   "metadata": {},
   "outputs": [],
   "source": [
    "\n",
    "def normalize_with_saved_stats(X, stats_path=\"normalization.json\"):\n",
    "    with open(stats_path, \"r\") as f:\n",
    "        stats = json.load(f)\n",
    "\n",
    "    mean = np.array(stats[\"mean\"])\n",
    "    std = np.array(stats[\"std\"])\n",
    "    X_flat = X.reshape(-1, X.shape[-1])\n",
    "    X_scaled = (X_flat - mean) / std\n",
    "    return X_scaled.reshape(X.shape)\n"
   ]
  },
  {
   "cell_type": "code",
   "execution_count": 8,
   "id": "e8bc400b",
   "metadata": {},
   "outputs": [],
   "source": [
    "\n",
    "\n",
    "def load_test_dataset(folder_path):\n",
    "    X_all, y_all = [], []\n",
    "\n",
    "    for file in os.listdir(folder_path):\n",
    "        if file.endswith(\".csv\"):\n",
    "            filepath = os.path.join(folder_path, file)\n",
    "\n",
    "            # window_size and stride same as training\n",
    "            X, y = get_dataset(filepath, window_size=20, stride=5, normalize=True)\n",
    "            X_all.append(X)\n",
    "            y_all.append(y)\n",
    "\n",
    "    return np.concatenate(X_all), np.concatenate(y_all)\n"
   ]
  },
  {
   "cell_type": "code",
   "execution_count": 10,
   "id": "b3dfdd58",
   "metadata": {},
   "outputs": [
    {
     "name": "stderr",
     "output_type": "stream",
     "text": [
      "c:\\Users\\mohit\\AppData\\Local\\Programs\\Python\\Python312\\Lib\\site-packages\\keras\\src\\saving\\saving_lib.py:802: UserWarning: Skipping variable loading for optimizer 'adam', because it has 46 variables whereas the saved optimizer has 2 variables. \n",
      "  saveable.load_own_variables(weights_store.get(inner_path))\n"
     ]
    }
   ],
   "source": [
    "\n",
    "# Step 1: Load model\n",
    "model = keras.models.load_model(\"../final_model.keras\")\n"
   ]
  },
  {
   "cell_type": "code",
   "execution_count": 13,
   "id": "5d8af5d5",
   "metadata": {},
   "outputs": [],
   "source": [
    "\n",
    "# Step 2: Load test data\n",
    "x_test, y_test = load_test_dataset(\"../TestData/with\")\n"
   ]
  },
  {
   "cell_type": "code",
   "execution_count": 14,
   "id": "e4a73982",
   "metadata": {},
   "outputs": [
    {
     "name": "stdout",
     "output_type": "stream",
     "text": [
      "\u001b[1m39/39\u001b[0m \u001b[32m━━━━━━━━━━━━━━━━━━━━\u001b[0m\u001b[37m\u001b[0m \u001b[1m2s\u001b[0m 6ms/step - accuracy: 0.2197 - loss: 5.1468\n",
      "\n",
      " Test Accuracy: 24.86%\n"
     ]
    }
   ],
   "source": [
    "\n",
    "# Step 3: Evaluate\n",
    "loss, accuracy = model.evaluate(x_test, y_test, verbose=1)\n",
    "print(f\"\\n Test Accuracy: {accuracy * 100:.2f}%\")"
   ]
  }
 ],
 "metadata": {
  "kernelspec": {
   "display_name": "Python 3",
   "language": "python",
   "name": "python3"
  },
  "language_info": {
   "codemirror_mode": {
    "name": "ipython",
    "version": 3
   },
   "file_extension": ".py",
   "mimetype": "text/x-python",
   "name": "python",
   "nbconvert_exporter": "python",
   "pygments_lexer": "ipython3",
   "version": "3.12.0"
  }
 },
 "nbformat": 4,
 "nbformat_minor": 5
}
